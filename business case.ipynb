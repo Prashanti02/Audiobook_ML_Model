{
 "cells": [
  {
   "cell_type": "code",
   "execution_count": 1,
   "id": "c44fdd55",
   "metadata": {},
   "outputs": [],
   "source": [
    "#steps\n",
    "#import libraries\n",
    "# 1. preprocess the data\n",
    "# 1.1 balance the dataset\n",
    "#1.2 divide the dataset into training, validation, test (prevent overfitting)\n",
    "#1.3 save the data in tensor friendly format (.npz)\n",
    "#2. create machine learning algorithm"
   ]
  },
  {
   "cell_type": "code",
   "execution_count": 2,
   "id": "1b9268e6",
   "metadata": {},
   "outputs": [],
   "source": [
    "import numpy as np\n",
    "from sklearn import preprocessing\n",
    "raw_csv = np.loadtxt('csv files/Audiobooks_data.csv', delimiter=',')\n",
    "unscaled_inputs_all = raw_csv[:,1:-1]\n",
    "targets_all = raw_csv[:,-1]"
   ]
  },
  {
   "cell_type": "code",
   "execution_count": 13,
   "id": "f3873f4f",
   "metadata": {},
   "outputs": [],
   "source": [
    "#balance the dataset"
   ]
  },
  {
   "cell_type": "code",
   "execution_count": 14,
   "id": "80991097",
   "metadata": {},
   "outputs": [],
   "source": [
    "shuffled_indices = np.arange(unscaled_inputs_all.shape[0])\n",
    "np.random.shuffle(shuffled_indices)\n",
    "unscaled_inputs_all = unscaled_inputs_all[shuffled_indices]\n",
    "targets_all = targets_all[shuffled_indices]"
   ]
  },
  {
   "cell_type": "code",
   "execution_count": 15,
   "id": "b997abc1",
   "metadata": {},
   "outputs": [],
   "source": [
    "num_one_targets = int(np.sum(targets_all))\n",
    "zero_targets_counter = 0\n",
    "indices_to_remove =[]\n",
    "\n",
    "for i in range (targets_all.shape[0]):\n",
    "    if targets_all[i]==0:\n",
    "        zero_targets_counter +=1\n",
    "        if zero_targets_counter> num_one_targets:\n",
    "            indices_to_remove.append(i)\n",
    "            \n",
    "unscaled_inputs_equal_priors = np.delete(unscaled_inputs_all, indices_to_remove, axis=0)\n",
    "targets_equal_priors = np.delete(targets_all, indices_to_remove, axis=0)\n",
    "    "
   ]
  },
  {
   "cell_type": "code",
   "execution_count": 5,
   "id": "6f92db0c",
   "metadata": {},
   "outputs": [],
   "source": [
    "#standardize the inputs"
   ]
  },
  {
   "cell_type": "code",
   "execution_count": 16,
   "id": "a01a4c60",
   "metadata": {},
   "outputs": [],
   "source": [
    "scaled_inputs= preprocessing.scale(unscaled_inputs_equal_priors)"
   ]
  },
  {
   "cell_type": "code",
   "execution_count": 7,
   "id": "7a85fa58",
   "metadata": {},
   "outputs": [],
   "source": [
    "#shuffle the data"
   ]
  },
  {
   "cell_type": "code",
   "execution_count": 17,
   "id": "f35a4267",
   "metadata": {},
   "outputs": [],
   "source": [
    "shuffled_indices = np.arange(scaled_inputs.shape[0])\n",
    "np.random.shuffle(shuffled_indices)\n",
    "\n",
    "shuffled_inputs = scaled_inputs[shuffled_indices]\n",
    "shuffled_targets = targets_equal_priors[shuffled_indices]"
   ]
  },
  {
   "cell_type": "code",
   "execution_count": 9,
   "id": "5d25d6cf",
   "metadata": {},
   "outputs": [],
   "source": [
    "#split into train, validation, and test"
   ]
  },
  {
   "cell_type": "code",
   "execution_count": 18,
   "id": "b8f2eef9",
   "metadata": {},
   "outputs": [
    {
     "name": "stdout",
     "output_type": "stream",
     "text": [
      "1781.0 3579 0.49762503492595694\n",
      "221.0 447 0.49440715883668906\n",
      "235.0 448 0.5245535714285714\n"
     ]
    }
   ],
   "source": [
    "samples_count = shuffled_inputs.shape[0]\n",
    "\n",
    "train_samples_count = int(0.8*samples_count)\n",
    "validation_samples_count = int(0.1*samples_count)\n",
    "test_samples_count = samples_count - train_samples_count - validation_samples_count\n",
    "\n",
    "train_inputs = shuffled_inputs[:train_samples_count]\n",
    "train_targets = shuffled_targets[:train_samples_count]\n",
    "\n",
    "validation_inputs = shuffled_inputs[train_samples_count:train_samples_count+validation_samples_count]\n",
    "validation_targets = shuffled_targets[train_samples_count:train_samples_count+validation_samples_count]\n",
    "\n",
    "test_inputs = shuffled_inputs[train_samples_count+validation_samples_count:]\n",
    "test_targets = shuffled_targets[train_samples_count+validation_samples_count:]\n",
    "\n",
    "print(np.sum(train_targets),train_samples_count, np.sum(train_targets)/train_samples_count)\n",
    "print(np.sum(validation_targets),validation_samples_count, np.sum(validation_targets)/validation_samples_count)\n",
    "print(np.sum(test_targets),test_samples_count, np.sum(test_targets)/test_samples_count)"
   ]
  },
  {
   "cell_type": "code",
   "execution_count": 11,
   "id": "0413ec6d",
   "metadata": {},
   "outputs": [],
   "source": [
    "#save dataset"
   ]
  },
  {
   "cell_type": "code",
   "execution_count": 19,
   "id": "c00fce9a",
   "metadata": {},
   "outputs": [],
   "source": [
    "np.savez('Audiobooks_data_train', inputs=train_inputs, targets=train_targets)\n",
    "np.savez('Audiobooks_data_validation', inputs=validation_inputs, targets=validation_targets)\n",
    "np.savez('Audiobooks_data_test', inputs=test_inputs, targets=test_targets)"
   ]
  },
  {
   "cell_type": "code",
   "execution_count": null,
   "id": "d99fe577",
   "metadata": {},
   "outputs": [],
   "source": []
  }
 ],
 "metadata": {
  "kernelspec": {
   "display_name": "Python 3 (ipykernel)",
   "language": "python",
   "name": "python3"
  },
  "language_info": {
   "codemirror_mode": {
    "name": "ipython",
    "version": 3
   },
   "file_extension": ".py",
   "mimetype": "text/x-python",
   "name": "python",
   "nbconvert_exporter": "python",
   "pygments_lexer": "ipython3",
   "version": "3.10.6"
  }
 },
 "nbformat": 4,
 "nbformat_minor": 5
}
